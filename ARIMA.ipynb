{
 "cells": [
  {
   "cell_type": "code",
   "execution_count": 1,
   "id": "efc5a635-3ae1-4c29-a172-0bcee282675b",
   "metadata": {},
   "outputs": [
    {
     "name": "stdout",
     "output_type": "stream",
     "text": [
      "Requirement already satisfied: statsmodels in c:\\users\\a b siddik\\anaconda3\\lib\\site-packages (0.14.2)Note: you may need to restart the kernel to use updated packages.\n",
      "\n",
      "Requirement already satisfied: numpy>=1.22.3 in c:\\users\\a b siddik\\anaconda3\\lib\\site-packages (from statsmodels) (1.26.4)\n",
      "Requirement already satisfied: scipy!=1.9.2,>=1.8 in c:\\users\\a b siddik\\anaconda3\\lib\\site-packages (from statsmodels) (1.13.1)\n",
      "Requirement already satisfied: pandas!=2.1.0,>=1.4 in c:\\users\\a b siddik\\anaconda3\\lib\\site-packages (from statsmodels) (2.2.2)\n",
      "Requirement already satisfied: patsy>=0.5.6 in c:\\users\\a b siddik\\anaconda3\\lib\\site-packages (from statsmodels) (0.5.6)\n",
      "Requirement already satisfied: packaging>=21.3 in c:\\users\\a b siddik\\anaconda3\\lib\\site-packages (from statsmodels) (24.1)\n",
      "Requirement already satisfied: python-dateutil>=2.8.2 in c:\\users\\a b siddik\\anaconda3\\lib\\site-packages (from pandas!=2.1.0,>=1.4->statsmodels) (2.9.0.post0)\n",
      "Requirement already satisfied: pytz>=2020.1 in c:\\users\\a b siddik\\anaconda3\\lib\\site-packages (from pandas!=2.1.0,>=1.4->statsmodels) (2024.1)\n",
      "Requirement already satisfied: tzdata>=2022.7 in c:\\users\\a b siddik\\anaconda3\\lib\\site-packages (from pandas!=2.1.0,>=1.4->statsmodels) (2023.3)\n",
      "Requirement already satisfied: six in c:\\users\\a b siddik\\anaconda3\\lib\\site-packages (from patsy>=0.5.6->statsmodels) (1.16.0)\n"
     ]
    }
   ],
   "source": [
    "pip install statsmodels"
   ]
  },
  {
   "cell_type": "code",
   "execution_count": 2,
   "id": "4ed4f10e-87ea-449a-8a9a-eb54fb795f1b",
   "metadata": {},
   "outputs": [
    {
     "name": "stdout",
     "output_type": "stream",
     "text": [
      "Requirement already satisfied: matplotlib in c:\\users\\a b siddik\\anaconda3\\lib\\site-packages (3.9.2)\n",
      "Requirement already satisfied: contourpy>=1.0.1 in c:\\users\\a b siddik\\anaconda3\\lib\\site-packages (from matplotlib) (1.2.0)\n",
      "Requirement already satisfied: cycler>=0.10 in c:\\users\\a b siddik\\anaconda3\\lib\\site-packages (from matplotlib) (0.11.0)\n",
      "Requirement already satisfied: fonttools>=4.22.0 in c:\\users\\a b siddik\\anaconda3\\lib\\site-packages (from matplotlib) (4.51.0)\n",
      "Requirement already satisfied: kiwisolver>=1.3.1 in c:\\users\\a b siddik\\anaconda3\\lib\\site-packages (from matplotlib) (1.4.4)\n",
      "Requirement already satisfied: numpy>=1.23 in c:\\users\\a b siddik\\anaconda3\\lib\\site-packages (from matplotlib) (1.26.4)\n",
      "Requirement already satisfied: packaging>=20.0 in c:\\users\\a b siddik\\anaconda3\\lib\\site-packages (from matplotlib) (24.1)\n",
      "Requirement already satisfied: pillow>=8 in c:\\users\\a b siddik\\anaconda3\\lib\\site-packages (from matplotlib) (10.4.0)\n",
      "Requirement already satisfied: pyparsing>=2.3.1 in c:\\users\\a b siddik\\anaconda3\\lib\\site-packages (from matplotlib) (3.1.2)\n",
      "Requirement already satisfied: python-dateutil>=2.7 in c:\\users\\a b siddik\\anaconda3\\lib\\site-packages (from matplotlib) (2.9.0.post0)\n",
      "Requirement already satisfied: six>=1.5 in c:\\users\\a b siddik\\anaconda3\\lib\\site-packages (from python-dateutil>=2.7->matplotlib) (1.16.0)\n",
      "Note: you may need to restart the kernel to use updated packages.\n"
     ]
    }
   ],
   "source": [
    "pip install matplotlib"
   ]
  },
  {
   "cell_type": "code",
   "execution_count": null,
   "id": "07f9d9ee-f772-4716-95cb-30fe9931e820",
   "metadata": {},
   "outputs": [],
   "source": [
    "pip install pandas"
   ]
  },
  {
   "cell_type": "code",
   "execution_count": null,
   "id": "c4838e4e-618d-4c6d-96f9-39be7e8b5736",
   "metadata": {},
   "outputs": [],
   "source": [
    "pip install scikit-learn"
   ]
  },
  {
   "cell_type": "code",
   "execution_count": null,
   "id": "9a487aba-f82a-4ceb-9710-4d49d35ef8e4",
   "metadata": {},
   "outputs": [],
   "source": [
    "pip install openpyxl"
   ]
  },
  {
   "cell_type": "code",
   "execution_count": null,
   "id": "81470037-4252-4ef0-8111-d3fcecc946a7",
   "metadata": {},
   "outputs": [],
   "source": [
    "import pandas as pd\n",
    "import numpy as np\n",
    "from statsmodels.tsa.arima.model import ARIMA\n",
    "from sklearn.preprocessing import MinMaxScaler\n",
    "from sklearn.metrics import mean_squared_error, mean_absolute_error\n",
    "import matplotlib.pyplot as plt\n",
    "# Load the dataset\n",
    "data = pd.read_excel(\"C:\\\\Users\\\\A B Siddik\\\\Desktop\\\\ARIMA\\\\data.xlsx\")\n",
    "data.head()"
   ]
  },
  {
   "cell_type": "code",
   "execution_count": null,
   "id": "52900d44-89b8-4a2c-bbdc-692c5f5b54e0",
   "metadata": {},
   "outputs": [],
   "source": [
    "# Filter the data to include only the relevant dates\n",
    "filtered_data = data[(data['Date'] >= '2021-09-12') & (data['Date'] <= '2021-09-18')]\n",
    "\n",
    "# Extract the 'New COVID-19 Cases' column\n",
    "new_cases_vector_actual_data = filtered_data['New COVID-19 Cases'].values\n",
    "\n",
    "print(new_cases_vector_actual_data)"
   ]
  },
  {
   "cell_type": "code",
   "execution_count": null,
   "id": "b69d6b04-70d7-4c0d-9277-f5653b2f6b6d",
   "metadata": {},
   "outputs": [],
   "source": [
    "# Convert 'Date' column to datetime type\n",
    "data['Date'] = pd.to_datetime(data['Date'])\n",
    "\n",
    "# Filter the data to include only the relevant dates\n",
    "data_filtered = data[(data['Date'] >= '2021-06-01') & (data['Date'] <= '2021-08-14')]\n",
    "\n",
    "# Retain the Date column separately\n",
    "dates = data_filtered['Date']\n",
    "\n",
    "# Normalize the time series data excluding the Date column\n",
    "scaler = MinMaxScaler()\n",
    "time_series_data = data_filtered.drop(columns=['Date'])\n",
    "normalized_data = pd.DataFrame(scaler.fit_transform(time_series_data), columns=time_series_data.columns)\n",
    "\n",
    "# Add the Date column back to the normalized data\n",
    "normalized_data['Date'] = dates.values\n",
    "\n",
    "# Split the data into training and testing sets\n",
    "train_set = normalized_data[(normalized_data['Date'] >= '2021-06-01') & (normalized_data['Date'] <= '2021-07-17')]\n",
    "test_set = normalized_data[(normalized_data['Date'] >= '2021-07-18') & (normalized_data['Date'] <= '2021-08-14')]"
   ]
  },
  {
   "cell_type": "code",
   "execution_count": null,
   "id": "5f633e5d-9fe3-4d3d-b194-26ddcac2c154",
   "metadata": {},
   "outputs": [],
   "source": [
    "# Extract the 'New COVID-19 Cases' column and convert it to a time series\n",
    "covid_cases_ts = data_filtered.set_index('Date')['New COVID-19 Cases']\n",
    "\n",
    "# Define the training period explicitly using the subset function\n",
    "train_data = covid_cases_ts[:'2021-07-17']\n",
    "\n",
    "# Fit ARIMA(9,2,2) model\n",
    "arima_model = ARIMA(train_data, order=(9, 2, 2)).fit()\n",
    "\n",
    "# Print the model summary\n",
    "print(arima_model.summary())"
   ]
  },
  {
   "cell_type": "code",
   "execution_count": null,
   "id": "3fe3c1d0-5b37-4848-bec8-1a4a6c232790",
   "metadata": {},
   "outputs": [],
   "source": [
    "# Forecast on the test set\n",
    "test_data = covid_cases_ts['2021-07-18':'2021-08-14']\n",
    "forecast = arima_model.forecast(steps=len(test_data))\n",
    "\n",
    "# Calculate performance metrics\n",
    "mse = mean_squared_error(test_data, forecast)\n",
    "mae = mean_absolute_error(test_data, forecast)\n",
    "mape = np.mean(np.abs((test_data - forecast) / test_data)) * 100\n",
    "rmse = np.sqrt(mse)\n",
    "rrmse = rmse / (np.max(test_data) - np.min(test_data))\n",
    "\n",
    "print(f\"Mean Squared Error (MSE): {mse}\")\n",
    "print(f\"Mean Absolute Error (MAE): {mae}\")\n",
    "print(f\"Mean Absolute Percentage Error (MAPE): {mape}\")\n",
    "print(f\"Root Mean Squared Error (RMSE): {rmse}\")\n",
    "print(f\"Relative Root Mean Square Error (RRMSE): {rrmse}\")"
   ]
  },
  {
   "cell_type": "code",
   "execution_count": null,
   "id": "2ee8debb-52a2-4b34-909a-b6babdba57f5",
   "metadata": {},
   "outputs": [],
   "source": [
    "import pandas as pd\n",
    "from statsmodels.tsa.arima.model import ARIMA"
   ]
  },
  {
   "cell_type": "code",
   "execution_count": null,
   "id": "70b52455-65b3-4308-8cba-06034bf64f2c",
   "metadata": {},
   "outputs": [],
   "source": [
    "start_date = '2021-09-12'\n",
    "end_date = '2021-09-18'\n",
    "\n",
    "rolling_forecast = []\n",
    "history = list(train_data)\n",
    "\n",
    "for date in pd.date_range(start=start_date, end=end_date):\n",
    "\n",
    "        model = ARIMA(history, order = (9, 2, 2), enforce_stationarity=False, enforce_invertibility=False)\n",
    "        model_fit = model.fit()\n",
    "        output = model_fit.forecast()\n",
    "        rolling_forecast.append(output[0])\n",
    "        history.append(output[0])\n",
    "\n",
    "rolling_forecast_arima_with_no_exo = pd.Series(rolling_forecast, index=pd.date_range(start=start_date, end=end_date))"
   ]
  },
  {
   "cell_type": "code",
   "execution_count": null,
   "id": "dbf7e8bb-80f0-4876-82a4-efbfa75ac1f5",
   "metadata": {},
   "outputs": [],
   "source": [
    "print (rolling_forecast_arima_with_no_exo)"
   ]
  },
  {
   "cell_type": "code",
   "execution_count": null,
   "id": "1cf67f3c-4bbc-4ccc-b006-9fca1026dcd3",
   "metadata": {},
   "outputs": [],
   "source": []
  }
 ],
 "metadata": {
  "kernelspec": {
   "display_name": "Python 3 (ipykernel)",
   "language": "python",
   "name": "python3"
  },
  "language_info": {
   "codemirror_mode": {
    "name": "ipython",
    "version": 3
   },
   "file_extension": ".py",
   "mimetype": "text/x-python",
   "name": "python",
   "nbconvert_exporter": "python",
   "pygments_lexer": "ipython3",
   "version": "3.12.7"
  }
 },
 "nbformat": 4,
 "nbformat_minor": 5
}
