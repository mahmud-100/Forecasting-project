{
 "cells": [
  {
   "cell_type": "code",
   "execution_count": null,
   "id": "7c1e0e62-b62c-439a-9d5d-994aa1db07f7",
   "metadata": {},
   "outputs": [],
   "source": [
    "pip install statsmodels"
   ]
  },
  {
   "cell_type": "code",
   "execution_count": null,
   "id": "2b87a50b-b9d3-46f1-887f-aa44b6a44d31",
   "metadata": {},
   "outputs": [],
   "source": [
    "pip install matplotlib"
   ]
  },
  {
   "cell_type": "code",
   "execution_count": null,
   "id": "3ddc7062-93e3-4830-90e9-37b8f459c4ad",
   "metadata": {},
   "outputs": [],
   "source": [
    "pip install pandas"
   ]
  },
  {
   "cell_type": "code",
   "execution_count": null,
   "id": "44d61ceb-ab26-4069-bacd-1363652f6e23",
   "metadata": {},
   "outputs": [],
   "source": [
    "pip install scikit-learn"
   ]
  },
  {
   "cell_type": "code",
   "execution_count": null,
   "id": "ca6bdf77-4682-4512-b365-fce0ec608762",
   "metadata": {},
   "outputs": [],
   "source": [
    "pip install scikit-learn"
   ]
  },
  {
   "cell_type": "code",
   "execution_count": null,
   "id": "94f32303-d5e7-4609-b3fa-48d721a2dc27",
   "metadata": {},
   "outputs": [],
   "source": [
    "import pandas as pd\n",
    "import numpy as np\n",
    "from statsmodels.tsa.arima.model import ARIMA\n",
    "from sklearn.preprocessing import MinMaxScaler\n",
    "from sklearn.metrics import mean_squared_error, mean_absolute_error\n",
    "import matplotlib.pyplot as plt\n",
    "# Load the dataset\n",
    "data = pd.read_excel(\"C:\\\\Users\\\\A B Siddik\\\\Desktop\\\\ARIMA\\\\data.xlsx\")\n",
    "data.head()"
   ]
  },
  {
   "cell_type": "code",
   "execution_count": null,
   "id": "a9dae25d-8962-4618-9348-56465efb1e42",
   "metadata": {},
   "outputs": [],
   "source": [
    "# Filter the data to include only the relevant dates\n",
    "filtered_data = data[(data['Date'] >= '2021-09-12') & (data['Date'] <= '2021-09-18')]\n",
    "\n",
    "# Extract the 'New COVID-19 Cases' column\n",
    "new_cases_vector_actual_data = filtered_data['New COVID-19 Cases'].values\n",
    "\n",
    "print(new_cases_vector_actual_dat"
   ]
  },
  {
   "cell_type": "code",
   "execution_count": null,
   "id": "a6ea6754-d9f3-40dd-9b75-da1490706bc3",
   "metadata": {},
   "outputs": [],
   "source": [
    "import pandas as pd\n",
    "import numpy as np\n",
    "from sklearn.preprocessing import MinMaxScaler\n",
    "from sklearn.metrics import mean_squared_error, mean_absolute_error\n",
    "from statsmodels.tsa.arima.model import ARIMA\n",
    "import matplotlib.pyplot as plt\n",
    "\n",
    "# === Step 1: Load and preprocess data ===\n",
    "# Convert 'Date' column to datetime\n",
    "data['Date'] = pd.to_datetime(data['Date'], dayfirst=True)\n",
    "\n",
    "# Filter dataset between Jan 4, 2021, and Sep 18, 2021\n",
    "data_filtered = data[(data['Date'] >= '2021-01-04') & (data['Date'] <= '2021-09-18')].reset_index(drop=True)\n",
    "\n",
    "# Keep original Date column separately\n",
    "dates = data_filtered['Date']\n",
    "\n",
    "# Normalize all columns except Date\n",
    "scaler = MinMaxScaler()\n",
    "features = data_filtered.drop(columns=['Date'])\n",
    "normalized_features = pd.DataFrame(scaler.fit_transform(features), columns=features.columns)\n",
    "normalized_features['Date'] = dates\n",
    "\n",
    "# === Step 2: Split into train/val/test ===\n",
    "train_set = normalized_features[(normalized_features['Date'] >= '2021-01-04') & (normalized_features['Date'] <= '2021-07-02')]\n",
    "val_set = normalized_features[(normalized_features['Date'] >= '2021-07-03') & (normalized_features['Date'] <= '2021-08-10')]\n",
    "test_set = normalized_features[(normalized_features['Date'] >= '2021-08-11') & (normalized_features['Date'] <= '2021-09-18')]\n",
    "\n",
    "# Reset index for each\n",
    "train_set = train_set.reset_index(drop=True)\n",
    "val_set = val_set.reset_index(drop=True)\n",
    "test_set = test_set.reset_index(drop=True)\n",
    "\n",
    "# === Step 3: Time series model on actual cases ===\n",
    "# We'll use unnormalized actual cases for ARIMA forecasting\n",
    "covid_cases_ts = data_filtered.set_index('Date')['New COVID-19 Cases']  # Replace 'Cases' with your actual column name\n",
    "\n",
    "# Train ARIMA model on training + validation set\n",
    "arima_train_series = covid_cases_ts['2021-01-04':'2021-08-10']\n",
    "arima_model = ARIMA(arima_train_series, order=(6,1,6))  # You can optimize (p,d,q) or use auto_arima\n",
    "arima_model = arima_model.fit()\n",
    "\n",
    "# Print the model summary\n",
    "print(arima_model.summary())\n"
   ]
  },
  {
   "cell_type": "code",
   "execution_count": null,
   "id": "707c6546-199b-42f2-a260-de585bd47c07",
   "metadata": {},
   "outputs": [],
   "source": [
    "from sklearn.metrics import mean_squared_error, mean_absolute_error, r2_score\n",
    "import numpy as np\n",
    "import pandas as pd\n",
    "\n",
    "# Step 4: Forecast and evaluate\n",
    "test_data = covid_cases_ts['2021-08-11':'2021-09-18']\n",
    "forecast = arima_model.forecast(steps=len(test_data))\n",
    "forecast = pd.Series(forecast, index=test_data.index)\n",
    "\n",
    "# Metrics\n",
    "mse = mean_squared_error(test_data, forecast)\n",
    "mae = mean_absolute_error(test_data, forecast)\n",
    "mape = np.mean(np.abs((test_data - forecast) / test_data)) * 100\n",
    "rmse = np.sqrt(mse)\n",
    "rrmse = rmse / (np.max(test_data) - np.min(test_data))\n",
    "nrmse = rmse / np.mean(test_data)  # Normalized RMSE by mean\n",
    "r2 = r2_score(test_data, forecast)\n",
    "\n",
    "# Print results\n",
    "print(f\"Mean Squared Error (MSE): {mse:.2f}\")\n",
    "print(f\"Mean Absolute Error (MAE): {mae:.2f}\")\n",
    "print(f\"Mean Absolute Percentage Error (MAPE): {mape:.2f}%\")\n",
    "print(f\"Root Mean Squared Error (RMSE): {rmse:.2f}\")\n",
    "print(f\"Relative RMSE (RRMSE): {rrmse:.4f}\")\n",
    "print(f\"Normalized RMSE (NRMSE): {nrmse:.4f}\")\n",
    "print(f\"R-squared (R²): {r2:.4f}\")\n"
   ]
  },
  {
   "cell_type": "code",
   "execution_count": null,
   "id": "04aab6ad-97cc-4e9f-9f57-c96d9cfe9d6f",
   "metadata": {},
   "outputs": [],
   "source": [
    "from statsmodels.tsa.arima.model import ARIMA\n",
    "import pandas as pd\n",
    "\n",
    "# Initialize history with actual training values (no datetime index)\n",
    "history = list(arima_train_series.values)\n",
    "\n",
    "start_date = '2021-09-12'\n",
    "end_date = '2021-09-18'\n",
    "\n",
    "rolling_forecast = []\n",
    "\n",
    "for date in pd.date_range(start=start_date, end=end_date):\n",
    "    model = ARIMA(history, order=(6, 1, 6), enforce_stationarity=False, enforce_invertibility=False)\n",
    "    model_fit = model.fit()\n",
    "\n",
    "    output = model_fit.forecast(steps=1)  # output is np.ndarray\n",
    "    next_value = output[0]                # fixed line\n",
    "    rolling_forecast.append(next_value)\n",
    "    \n",
    "    history.append(next_value)            # add predicted value to history\n",
    "\n",
    "# Convert to Series with date index\n",
    "forecast_index = pd.date_range(start=start_date, end=end_date)\n",
    "rolling_forecast_arima_with_no_exo = pd.Series(rolling_forecast, index=forecast_index)\n",
    "\n",
    "# Optional: print or plot\n",
    "print(rolling_forecast_arima_with_no_exo)\n"
   ]
  },
  {
   "cell_type": "code",
   "execution_count": null,
   "id": "f517b08a-eaf5-46e1-88a2-a5eb1aad610f",
   "metadata": {},
   "outputs": [],
   "source": [
    "import matplotlib.pyplot as plt\n",
    "import pandas as pd\n",
    "\n",
    "# Define the dates\n",
    "dates = pd.date_range(start='2021-09-12', end='2021-09-18')\n",
    "\n",
    "# Define the vectors\n",
    "new_cases_vector_actual_data = [19550, 19198, 16073, 15669, 19495, 18815,17577]\n",
    "forecast_vector_arima_no_exo = [17695.577209, 18454.495591, 19303.898229, 19389.129789, 18751.381991, 17731.829261, 17116.208056]\n",
    "# Plot the data\n",
    "plt.figure(figsize=(14, 8))\n",
    "plt.plot(dates, new_cases_vector_actual_data, label='Actual active cases', marker='o')\n",
    "plt.plot(dates, forecast_vector_arima_no_exo, label='ARIMA prediction ', marker='o')\n",
    "\n",
    "\n",
    "# Add title and labels\n",
    "plt.title('New active cases: Actual vs. Forecasted')\n",
    "plt.xlabel('Date')\n",
    "plt.ylabel('Number of new cases')\n",
    "plt.legend()\n",
    "plt.grid(True)\n",
    "plt.xticks(rotation=45)\n",
    "plt.tight_layout()\n",
    "\n",
    "# Show plot\n",
    "plt.show()"
   ]
  }
 ],
 "metadata": {
  "kernelspec": {
   "display_name": "Python 3 (ipykernel)",
   "language": "python",
   "name": "python3"
  },
  "language_info": {
   "codemirror_mode": {
    "name": "ipython",
    "version": 3
   },
   "file_extension": ".py",
   "mimetype": "text/x-python",
   "name": "python",
   "nbconvert_exporter": "python",
   "pygments_lexer": "ipython3",
   "version": "3.12.7"
  }
 },
 "nbformat": 4,
 "nbformat_minor": 5
}
